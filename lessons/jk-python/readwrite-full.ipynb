{
 "metadata": {
  "name": ""
 },
 "nbformat": 3,
 "nbformat_minor": 0,
 "worksheets": [
  {
   "cells": [
    {
     "cell_type": "markdown",
     "metadata": {},
     "source": [
      "# Reading and Writing Files using Python\n",
      "\n",
      "__Software Carpentry Bootcamp  \n",
      "University of California, Berkeley   \n",
      "April 2013__  \n",
      "\n",
      "_Prepared by: Chris Holdgraf  \n",
      "Original by: Justin Kitzes_"
     ]
    },
    {
     "cell_type": "markdown",
     "metadata": {},
     "source": [
      "## 1. Introduction\n",
      "\n",
      "The core Python libraries, along with external packages such as `numpy`, `matplotlib`, `pandas`, and others,\n",
      "provide both low-level and high-level methods for extracting data from files, processing this data, and\n",
      "saving results back to disk.\n",
      "\n",
      "In this lesson, we will read text-based data files in two ways...\n",
      "\n",
      "- First, we will use Python's low level\n",
      "file reader and writer to examine the contents of a relatively unstructured text file, perform some analysis,\n",
      "and write our results back out to another text file. \n",
      "- Second, we will use high-level helper functions\n",
      "from `matplotlib` and `pandas` to easily read, modify, and write back out a csv file (csv stands for comma-separated\n",
      "values, and is the kind of data that you might have in a spreadsheet).\n",
      "\n",
      "In general, you will want to use easy, high-level approaches whenever possible (they will save you time\n",
      "and probably errors) and switch over to the low-level methods when your data have an unusual structure\n",
      "that the high-level readers cannot deal with easily. There are other high-level file handlers in `numpy`,\n",
      "such as `loadtxt` and `savetxt`, and `pandas`, such as `from_csv` and `to_csv`, that are also useful,\n",
      "and we encourage you to look into them.  Pandas also integrates many of these functions into a single package very nicely."
     ]
    },
    {
     "cell_type": "markdown",
     "metadata": {},
     "source": [
      "## 2. Reading and writing text files line-by-line\n",
      "\n",
      "The most basic way to get data into Python is to open a text file and read it, line by line, and examine\n",
      "each line in turn to determine what to do with it (ie, save it, skip it, extract some information, etc.).\n",
      "\n",
      "This method will work on any type of file, including tables in csv format. However, this method really becomes\n",
      "useful when you find yourself with a \"unique\" type of data record, such as the one in the sample file\n",
      "shown below."
     ]
    },
    {
     "cell_type": "code",
     "collapsed": false,
     "input": [
      "# Load numpy once again, and the plotting library for good measure\n",
      "import numpy as np\n",
      "%pylab inline"
     ],
     "language": "python",
     "metadata": {},
     "outputs": [
      {
       "output_type": "stream",
       "stream": "stdout",
       "text": [
        "\n",
        "Welcome to pylab, a matplotlib-based Python environment [backend: module://IPython.zmq.pylab.backend_inline].\n",
        "For more information, type 'help(pylab)'."
       ]
      }
     ],
     "prompt_number": 1
    },
    {
     "cell_type": "code",
     "collapsed": false,
     "input": [
      "# We have a data file with records of animal sightings in it\n",
      "!cat sightings_recs_sm.txt"
     ],
     "language": "python",
     "metadata": {},
     "outputs": [
      {
       "output_type": "stream",
       "stream": "stdout",
       "text": [
        "0 {\r\n",
        "Date: 2011-04-22\r\n",
        "Time: 15:16\r\n",
        "Animal: Wolverine\r\n",
        "Count: 5\r\n",
        "}\r\n",
        "\r\n",
        "1 {\r\n",
        "Date: 2011-04-22\r\n",
        "Time: 17:28\r\n",
        "Animal: Owl\r\n",
        "Count: 4\r\n",
        "}\r\n",
        "\r\n",
        "2 {\r\n",
        "Date: 2011-04-22\r\n",
        "Time: 01:06\r\n",
        "Animal: Owl\r\n",
        "Count: 27\r\n",
        "}\r\n",
        "\r\n"
       ]
      }
     ],
     "prompt_number": 1
    },
    {
     "cell_type": "code",
     "collapsed": true,
     "input": [
      "# Let's read the file line by line, and print each line back out (watch for newline characters)\n",
      "f = open('sightings_recs_sm.txt', 'r')\n",
      "\n",
      "for line in f:\n",
      "    print repr(line)\n",
      "    \n",
      "f.close()"
     ],
     "language": "python",
     "metadata": {},
     "outputs": [],
     "prompt_number": 3
    },
    {
     "cell_type": "code",
     "collapsed": true,
     "input": [
      "# Let's only print out the lines that have counts\n",
      "f = open('sightings_recs_sm.txt', 'r')\n",
      "\n",
      "for line in f:\n",
      "    if line[0:5] == 'Count':\n",
      "        print repr(line)\n",
      "        \n",
      "f.close()"
     ],
     "language": "python",
     "metadata": {},
     "outputs": [],
     "prompt_number": 4
    },
    {
     "cell_type": "code",
     "collapsed": true,
     "input": [
      "# Instead of printing the count, let's get the count and add it to a total\n",
      "#a = 'Count: 5'\n",
      "#print a.split(' ')[1]\n",
      "f = open('sightings_recs_sm.txt', 'r')\n",
      "\n",
      "total = 0\n",
      "for line in f:\n",
      "    if line[0:5] == 'Count':\n",
      "        thiscount = int(line.split(' ')[1])\n",
      "        total = total + thiscount\n",
      "print total\n",
      "\n",
      "f.close()"
     ],
     "language": "python",
     "metadata": {},
     "outputs": [],
     "prompt_number": 5
    },
    {
     "cell_type": "code",
     "collapsed": true,
     "input": [
      "# Finally, let's write out our answer to a new file\n",
      "g = open('sightings_recs_result.txt', 'w')\n",
      "g.write('Total animals seen: ' + str(total))\n",
      "g.close()"
     ],
     "language": "python",
     "metadata": {},
     "outputs": [],
     "prompt_number": 6
    },
    {
     "cell_type": "code",
     "collapsed": false,
     "input": [
      "!cat sightings_recs_result.txt"
     ],
     "language": "python",
     "metadata": {},
     "outputs": [
      {
       "output_type": "stream",
       "stream": "stdout",
       "text": [
        "Total animals seen: 36"
       ]
      }
     ],
     "prompt_number": 7
    },
    {
     "cell_type": "markdown",
     "metadata": {},
     "source": [
      "### EXERCISE 1 - Reading and writing line by line\n",
      "\n",
      "1. Write code that will figure out the number of records in which the animal Owl appears (not the total\n",
      "count of owls, just the number of times the word 'Owl' appears after the word 'Animal:' on a line).\n",
      "1. Write a results file called 'sightings_recs_owls.txt' that has, on the first line, the string\n",
      "'Counted by [your name]' and, on the second line, the string 'Total owl records:' followed by the number\n",
      "of records mentioing Owl. HINT: To write a new line in a file, use the special character '\\n'.\n",
      "2. Run your code on the much larger file 'sightings_recs_lg.txt'. How many records are there for owls?\n",
      "\n",
      "__Bonus__\n",
      "\n",
      "1. Modify your code to calculate the total number of owls seen in this data file (the sum of the counts within\n",
      "all records that have Owl as the animal). HINT: Since the animal name comes before the count, one way to\n",
      "do this is to create a new variable called `animal`, and update its value each time the for loop encounters\n",
      "a line that starts with 'Animal:'. Then, when the 'Count:' line is encountered, you should only add the count to\n",
      "your running total if the current value of the variable `animal` is Owl. Watch out for the new line character\n",
      "`\\n` at the end of strings!\n",
      "2. Run your code on the much larger file 'sightings_recs_lg.txt'. How many total owls were seen?"
     ]
    },
    {
     "cell_type": "code",
     "collapsed": true,
     "input": [
      "f = open('sightings_recs_sm.txt', 'r')\n",
      "#f = open('sightings_recs_lg.txt', 'r')\n",
      "\n",
      "recs = 0\n",
      "for line in f:\n",
      "    if line[0:11] == 'Animal: Owl':\n",
      "        recs = recs + 1\n",
      "print recs\n",
      "\n",
      "f.close()\n",
      "\n",
      "g = open('sightings_recs_owls.txt', 'w')\n",
      "g.write('Counted by Justin\\n')\n",
      "g.write('Total owl records: ' + str(recs))\n",
      "g.close()\n",
      "\n",
      "!cat sightings_recs_owls.txt"
     ],
     "language": "python",
     "metadata": {},
     "outputs": [],
     "prompt_number": 7
    },
    {
     "cell_type": "code",
     "collapsed": true,
     "input": [
      "f = open('sightings_recs_sm.txt', 'r')\n",
      "#f = open('sightings_recs_lg.txt', 'r')\n",
      "\n",
      "total = 0\n",
      "animal = 'None'\n",
      "for line in f:\n",
      "    if line[0:6] == 'Animal':\n",
      "        animal = line.split(' ')[1]\n",
      "    if (line[0:5] == 'Count') and (animal[0:3] == 'Owl'):\n",
      "        thiscount = int(line.split(' ')[1])\n",
      "        total = total + thiscount\n",
      "print total\n",
      "\n",
      "f.close()"
     ],
     "language": "python",
     "metadata": {},
     "outputs": [],
     "prompt_number": 7
    },
    {
     "cell_type": "markdown",
     "metadata": {},
     "source": [
      "## 3. Reading and writing tabular data with helper functions\n",
      "\n",
      "The process of reading and writing files becomes MUCH easier if your data is nicely structured, such as if\n",
      "it is formatted as a csv file (like a spreadsheet). In this case, there are a number of high-level helper\n",
      "functions that will help you to read, manipulate, and write this data. \n",
      "\n",
      "We'll give a short intro to a set of helper functions found in `matplotlib.mlab`, then dive into a package that integrates all of these, called \"Pandas\".\n",
      "\n",
      ">__Didactic aside__ - We often have control over the way that our data is collected and stored. Lots of headaches can be saved with a little thought on what structure this data will have as we collect it. When making these decisions, think about things like what format your timestamps should be stored in (hint: better to use delineators that make sense, 12_08_1986 is much better than 12081986), as well as how your different values should be separated (in this case we'll use commas, but really it could be anything)"
     ]
    },
    {
     "cell_type": "markdown",
     "metadata": {},
     "source": [
      "### Mlab functions\n",
      "There are lots of functions in `mlab`, but the ones that we want are listed under \"record array helper\n",
      "functions\" on this page: http://matplotlib.org/api/mlab_api.html. The most useful ones are\n",
      "\n",
      "* rec2csv() - store record array in CSV file\n",
      "* csv2rec() - import record array from CSV file with type inspection\n",
      "* rec_append_fields() - adds field(s)/array(s) to record array\n",
      "* rec_drop_fields() - drop fields from record array\n",
      "\n",
      "These functions will help us work with a special type of `numpy` array known as a `recarray`, short for\n",
      "record array. As you may remember, every element in a numpy array must be of the same data type (such as\n",
      "an int, float, string, etc.). In a recarray, the elements are a complex data type called a record that\n",
      "contains multiple fields, sort of like a simple database."
     ]
    },
    {
     "cell_type": "code",
     "collapsed": true,
     "input": [
      "# Import matplotlib.mlab\n",
      "import matplotlib.mlab as ml"
     ],
     "language": "python",
     "metadata": {},
     "outputs": [],
     "prompt_number": 8
    },
    {
     "cell_type": "code",
     "collapsed": false,
     "input": [
      "# Our field tech was much nicer this time, and gave us a csv with the sightings in it\n",
      "!cat sightings_tab_sm.csv"
     ],
     "language": "python",
     "metadata": {},
     "outputs": [
      {
       "output_type": "stream",
       "stream": "stdout",
       "text": [
        "Date,Time,Animal,Count\n",
        "2011-04-22,16:20,Owl,14\n",
        "2011-04-22,10:08,Fox,4\n",
        "2011-04-23,06:29,Muskox,31\n",
        "2011-04-23,21:11,Owl,20\n",
        "2011-04-23,07:41,Muskox,20"
       ]
      }
     ],
     "prompt_number": 9
    },
    {
     "cell_type": "code",
     "collapsed": true,
     "input": [
      "# We can load this csv into a numpy recarray in just one step\n",
      "tab = ml.csv2rec('sightings_tab_sm.csv')\n",
      "print repr(tab)"
     ],
     "language": "python",
     "metadata": {},
     "outputs": [],
     "prompt_number": 10
    },
    {
     "cell_type": "code",
     "collapsed": true,
     "input": [
      "# A recarray is a special kind of numpy array\n",
      "# It is one dimensional, but each element is a record that has many pieces of data in it\n",
      "print type(tab)\n",
      "print tab.dtype  # dtype isn't just an int, float, or str - it's complex"
     ],
     "language": "python",
     "metadata": {},
     "outputs": [],
     "prompt_number": 11
    },
    {
     "cell_type": "code",
     "collapsed": true,
     "input": [
      "# We can access \"rows\" and \"columns\" in a recarray easily\n",
      "# \"Rows\" are actually the indexes of the records\n",
      "# \"Columns\" can be accessed by the name of the field\n",
      "print tab[0]\n",
      "print tab['animal']\n",
      "print tab[0]['animal']"
     ],
     "language": "python",
     "metadata": {},
     "outputs": [],
     "prompt_number": 12
    },
    {
     "cell_type": "code",
     "collapsed": true,
     "input": [
      "# We can access values in the records by looping over each record individually\n",
      "for record in tab:\n",
      "    #print record\n",
      "    if record['animal'] == 'Owl':\n",
      "        print 'Count: ', record['count']"
     ],
     "language": "python",
     "metadata": {},
     "outputs": [],
     "prompt_number": 13
    },
    {
     "cell_type": "code",
     "collapsed": true,
     "input": [
      "# Or by using boolean indexing\n",
      "isowl = (tab['animal'] == 'Owl')\n",
      "print isowl\n",
      "print tab['count']\n",
      "print tab['count'][isowl]"
     ],
     "language": "python",
     "metadata": {},
     "outputs": [],
     "prompt_number": 14
    },
    {
     "cell_type": "code",
     "collapsed": true,
     "input": [
      "# Let's make a new table (also a recarray) that drops the date and time cols\n",
      "# Also, let's add a new col called 'group' that is True if there were more than 4 animals counted\n",
      "tabnew = tab.copy()\n",
      "\n",
      "tabnew = ml.rec_drop_fields(tabnew, ['date','time'])\n",
      "\n",
      "isgroup = (tabnew['count'] > 4)\n",
      "tabnew = ml.rec_append_fields(tabnew, 'group', isgroup)\n",
      "\n",
      "print repr(tabnew)"
     ],
     "language": "python",
     "metadata": {},
     "outputs": [],
     "prompt_number": 15
    },
    {
     "cell_type": "code",
     "collapsed": true,
     "input": [
      "# Finally, let's save our new recarray as a csv file\n",
      "ml.rec2csv(tabnew, 'sightings_tab_results.csv')"
     ],
     "language": "python",
     "metadata": {},
     "outputs": [],
     "prompt_number": 16
    },
    {
     "cell_type": "code",
     "collapsed": false,
     "input": [
      "# It worked!\n",
      "!cat sightings_tab_results.csv"
     ],
     "language": "python",
     "metadata": {},
     "outputs": [
      {
       "output_type": "stream",
       "stream": "stdout",
       "text": [
        "animal,count,group\n",
        "\n",
        "Owl,14,True\n",
        "\n",
        "Fox,4,False\n",
        "\n",
        "Muskox,31,True\n",
        "\n",
        "Owl,20,True\n",
        "\n",
        "Muskox,20,True"
       ]
      }
     ],
     "prompt_number": 17
    },
    {
     "cell_type": "markdown",
     "metadata": {},
     "source": [
      "###Pandas\n",
      "\n",
      "Now we'll try the same thing using Pandas.  You'll note that this has very similar syntax to mlab functions, but has a lot of extra functionality built in.\n",
      "\n",
      "The main data structure in Pandas is known as the \"DataFrame\" (which is quite similar to a Dataframe in R).  It is meant to be a way of representing your data so that you can conveniently and clearly manipulate, plot, store, filter, etc.\n",
      "\n",
      "While we can create dataframes manually, here we will use Pandas I/O functionality, which can easily read from csv files (and from many others as well, such as JSON, HTML, or HDF)"
     ]
    },
    {
     "cell_type": "code",
     "collapsed": false,
     "input": [
      "import pandas as pd"
     ],
     "language": "python",
     "metadata": {},
     "outputs": [],
     "prompt_number": 3
    },
    {
     "cell_type": "code",
     "collapsed": false,
     "input": [
      "# Our field tech was much nicer this time, and gave us a csv with the sightings in it\n",
      "!cat sightings_tab_sm.csv"
     ],
     "language": "python",
     "metadata": {},
     "outputs": [
      {
       "output_type": "stream",
       "stream": "stdout",
       "text": [
        "Date,Time,Animal,Count\r\n",
        "2011-04-22,16:20,Owl,14\r\n",
        "2011-04-22,10:08,Fox,4\r\n",
        "2011-04-23,06:29,Muskox,31\r\n",
        "2011-04-23,21:11,Owl,20\r\n",
        "2011-04-23,07:41,Muskox,20\r\n"
       ]
      }
     ],
     "prompt_number": 2
    },
    {
     "cell_type": "code",
     "collapsed": false,
     "input": [
      "# Pandas has inherent fanciness that displays data in nice tabular format.\n",
      "df = pd.read_csv('./sightings_tab_sm.csv')\n",
      "df.head()"
     ],
     "language": "python",
     "metadata": {},
     "outputs": [
      {
       "html": [
        "<div style=\"max-height:1000px;max-width:1500px;overflow:auto;\">\n",
        "<table border=\"1\" class=\"dataframe\">\n",
        "  <thead>\n",
        "    <tr style=\"text-align: right;\">\n",
        "      <th></th>\n",
        "      <th>Date</th>\n",
        "      <th>Time</th>\n",
        "      <th>Animal</th>\n",
        "      <th>Count</th>\n",
        "    </tr>\n",
        "  </thead>\n",
        "  <tbody>\n",
        "    <tr>\n",
        "      <th>0</th>\n",
        "      <td> 2011-04-22</td>\n",
        "      <td> 16:20</td>\n",
        "      <td>    Owl</td>\n",
        "      <td> 14</td>\n",
        "    </tr>\n",
        "    <tr>\n",
        "      <th>1</th>\n",
        "      <td> 2011-04-22</td>\n",
        "      <td> 10:08</td>\n",
        "      <td>    Fox</td>\n",
        "      <td>  4</td>\n",
        "    </tr>\n",
        "    <tr>\n",
        "      <th>2</th>\n",
        "      <td> 2011-04-23</td>\n",
        "      <td> 06:29</td>\n",
        "      <td> Muskox</td>\n",
        "      <td> 31</td>\n",
        "    </tr>\n",
        "    <tr>\n",
        "      <th>3</th>\n",
        "      <td> 2011-04-23</td>\n",
        "      <td> 21:11</td>\n",
        "      <td>    Owl</td>\n",
        "      <td> 20</td>\n",
        "    </tr>\n",
        "    <tr>\n",
        "      <th>4</th>\n",
        "      <td> 2011-04-23</td>\n",
        "      <td> 07:41</td>\n",
        "      <td> Muskox</td>\n",
        "      <td> 20</td>\n",
        "    </tr>\n",
        "  </tbody>\n",
        "</table>\n",
        "</div>"
       ],
       "metadata": {},
       "output_type": "pyout",
       "prompt_number": 5,
       "text": [
        "         Date   Time  Animal  Count\n",
        "0  2011-04-22  16:20     Owl     14\n",
        "1  2011-04-22  10:08     Fox      4\n",
        "2  2011-04-23  06:29  Muskox     31\n",
        "3  2011-04-23  21:11     Owl     20\n",
        "4  2011-04-23  07:41  Muskox     20"
       ]
      }
     ],
     "prompt_number": 5
    },
    {
     "cell_type": "markdown",
     "metadata": {},
     "source": [
      "####Note three main components of the dataframe we just created.\n",
      "\n",
      "The left column is in bold, this is because it is the \"index\" of the dataframe.  Right now, it is just a set of integers, not that interesting.  However, we can set an index to whatever we want to, which lets us organize our data more intuitively...just watch."
     ]
    },
    {
     "cell_type": "code",
     "collapsed": false,
     "input": [
      "df.index = ['whoah', 'my', 'mind', 'is', 'blown']\n",
      "df.head()"
     ],
     "language": "python",
     "metadata": {},
     "outputs": [
      {
       "html": [
        "<div style=\"max-height:1000px;max-width:1500px;overflow:auto;\">\n",
        "<table border=\"1\" class=\"dataframe\">\n",
        "  <thead>\n",
        "    <tr style=\"text-align: right;\">\n",
        "      <th></th>\n",
        "      <th>Date</th>\n",
        "      <th>Time</th>\n",
        "      <th>Animal</th>\n",
        "      <th>Count</th>\n",
        "    </tr>\n",
        "  </thead>\n",
        "  <tbody>\n",
        "    <tr>\n",
        "      <th>whoah</th>\n",
        "      <td> 2011-04-22</td>\n",
        "      <td> 16:20</td>\n",
        "      <td>    Owl</td>\n",
        "      <td> 14</td>\n",
        "    </tr>\n",
        "    <tr>\n",
        "      <th>my</th>\n",
        "      <td> 2011-04-22</td>\n",
        "      <td> 10:08</td>\n",
        "      <td>    Fox</td>\n",
        "      <td>  4</td>\n",
        "    </tr>\n",
        "    <tr>\n",
        "      <th>mind</th>\n",
        "      <td> 2011-04-23</td>\n",
        "      <td> 06:29</td>\n",
        "      <td> Muskox</td>\n",
        "      <td> 31</td>\n",
        "    </tr>\n",
        "    <tr>\n",
        "      <th>is</th>\n",
        "      <td> 2011-04-23</td>\n",
        "      <td> 21:11</td>\n",
        "      <td>    Owl</td>\n",
        "      <td> 20</td>\n",
        "    </tr>\n",
        "    <tr>\n",
        "      <th>blown</th>\n",
        "      <td> 2011-04-23</td>\n",
        "      <td> 07:41</td>\n",
        "      <td> Muskox</td>\n",
        "      <td> 20</td>\n",
        "    </tr>\n",
        "  </tbody>\n",
        "</table>\n",
        "</div>"
       ],
       "metadata": {},
       "output_type": "pyout",
       "prompt_number": 11,
       "text": [
        "             Date   Time  Animal  Count\n",
        "whoah  2011-04-22  16:20     Owl     14\n",
        "my     2011-04-22  10:08     Fox      4\n",
        "mind   2011-04-23  06:29  Muskox     31\n",
        "is     2011-04-23  21:11     Owl     20\n",
        "blown  2011-04-23  07:41  Muskox     20"
       ]
      }
     ],
     "prompt_number": 11
    },
    {
     "cell_type": "markdown",
     "metadata": {},
     "source": [
      "The top row is also in bold, these are the _column headers_ of the pandas dataframe.  They're a set of labels that tell us what kind of data exists beneath them.  Guess what, you can change these too!"
     ]
    },
    {
     "cell_type": "code",
     "collapsed": false,
     "input": [
      "df.columns = ['date_of_hunger', 'meal_time', 'sandwich_type', 'n_sandwiches']\n",
      "df.head()"
     ],
     "language": "python",
     "metadata": {},
     "outputs": [
      {
       "html": [
        "<div style=\"max-height:1000px;max-width:1500px;overflow:auto;\">\n",
        "<table border=\"1\" class=\"dataframe\">\n",
        "  <thead>\n",
        "    <tr style=\"text-align: right;\">\n",
        "      <th></th>\n",
        "      <th>date_of_hunger</th>\n",
        "      <th>meal_time</th>\n",
        "      <th>sandwich_type</th>\n",
        "      <th>n_sandwiches</th>\n",
        "    </tr>\n",
        "  </thead>\n",
        "  <tbody>\n",
        "    <tr>\n",
        "      <th>whoah</th>\n",
        "      <td> 2011-04-22</td>\n",
        "      <td> 16:20</td>\n",
        "      <td>    Owl</td>\n",
        "      <td> 14</td>\n",
        "    </tr>\n",
        "    <tr>\n",
        "      <th>my</th>\n",
        "      <td> 2011-04-22</td>\n",
        "      <td> 10:08</td>\n",
        "      <td>    Fox</td>\n",
        "      <td>  4</td>\n",
        "    </tr>\n",
        "    <tr>\n",
        "      <th>mind</th>\n",
        "      <td> 2011-04-23</td>\n",
        "      <td> 06:29</td>\n",
        "      <td> Muskox</td>\n",
        "      <td> 31</td>\n",
        "    </tr>\n",
        "    <tr>\n",
        "      <th>is</th>\n",
        "      <td> 2011-04-23</td>\n",
        "      <td> 21:11</td>\n",
        "      <td>    Owl</td>\n",
        "      <td> 20</td>\n",
        "    </tr>\n",
        "    <tr>\n",
        "      <th>blown</th>\n",
        "      <td> 2011-04-23</td>\n",
        "      <td> 07:41</td>\n",
        "      <td> Muskox</td>\n",
        "      <td> 20</td>\n",
        "    </tr>\n",
        "  </tbody>\n",
        "</table>\n",
        "</div>"
       ],
       "metadata": {},
       "output_type": "pyout",
       "prompt_number": 13,
       "text": [
        "      date_of_hunger meal_time sandwich_type  n_sandwiches\n",
        "whoah     2011-04-22     16:20           Owl            14\n",
        "my        2011-04-22     10:08           Fox             4\n",
        "mind      2011-04-23     06:29        Muskox            31\n",
        "is        2011-04-23     21:11           Owl            20\n",
        "blown     2011-04-23     07:41        Muskox            20"
       ]
      }
     ],
     "prompt_number": 13
    },
    {
     "cell_type": "markdown",
     "metadata": {},
     "source": [
      "Notice that our indices are actually pretty useless right now, so let's change them to something useful!"
     ]
    },
    {
     "cell_type": "code",
     "collapsed": false,
     "input": [
      "df.set_index('date_of_hunger', inplace=True)\n",
      "df.head()"
     ],
     "language": "python",
     "metadata": {},
     "outputs": [
      {
       "html": [
        "<div style=\"max-height:1000px;max-width:1500px;overflow:auto;\">\n",
        "<table border=\"1\" class=\"dataframe\">\n",
        "  <thead>\n",
        "    <tr style=\"text-align: right;\">\n",
        "      <th></th>\n",
        "      <th>meal_time</th>\n",
        "      <th>sandwich_type</th>\n",
        "      <th>n_sandwiches</th>\n",
        "    </tr>\n",
        "    <tr>\n",
        "      <th>date_of_hunger</th>\n",
        "      <th></th>\n",
        "      <th></th>\n",
        "      <th></th>\n",
        "    </tr>\n",
        "  </thead>\n",
        "  <tbody>\n",
        "    <tr>\n",
        "      <th>2011-04-22</th>\n",
        "      <td> 16:20</td>\n",
        "      <td>    Owl</td>\n",
        "      <td> 14</td>\n",
        "    </tr>\n",
        "    <tr>\n",
        "      <th>2011-04-22</th>\n",
        "      <td> 10:08</td>\n",
        "      <td>    Fox</td>\n",
        "      <td>  4</td>\n",
        "    </tr>\n",
        "    <tr>\n",
        "      <th>2011-04-23</th>\n",
        "      <td> 06:29</td>\n",
        "      <td> Muskox</td>\n",
        "      <td> 31</td>\n",
        "    </tr>\n",
        "    <tr>\n",
        "      <th>2011-04-23</th>\n",
        "      <td> 21:11</td>\n",
        "      <td>    Owl</td>\n",
        "      <td> 20</td>\n",
        "    </tr>\n",
        "    <tr>\n",
        "      <th>2011-04-23</th>\n",
        "      <td> 07:41</td>\n",
        "      <td> Muskox</td>\n",
        "      <td> 20</td>\n",
        "    </tr>\n",
        "  </tbody>\n",
        "</table>\n",
        "</div>"
       ],
       "metadata": {},
       "output_type": "pyout",
       "prompt_number": 15,
       "text": [
        "               meal_time sandwich_type  n_sandwiches\n",
        "date_of_hunger                                      \n",
        "2011-04-22         16:20           Owl            14\n",
        "2011-04-22         10:08           Fox             4\n",
        "2011-04-23         06:29        Muskox            31\n",
        "2011-04-23         21:11           Owl            20\n",
        "2011-04-23         07:41        Muskox            20"
       ]
      }
     ],
     "prompt_number": 15
    },
    {
     "cell_type": "markdown",
     "metadata": {},
     "source": [
      "Finally, we can look at the actual data.  Slicing pandas dataframes is quite simple, and as with most things in python, there are several ways to do it."
     ]
    },
    {
     "cell_type": "code",
     "collapsed": false,
     "input": [
      "# We can treat columns as attributes of the dataframe if the name allows it\n",
      "df.meal_time"
     ],
     "language": "python",
     "metadata": {},
     "outputs": [
      {
       "metadata": {},
       "output_type": "pyout",
       "prompt_number": 16,
       "text": [
        "date_of_hunger\n",
        "2011-04-22        16:20\n",
        "2011-04-22        10:08\n",
        "2011-04-23        06:29\n",
        "2011-04-23        21:11\n",
        "2011-04-23        07:41\n",
        "Name: meal_time, dtype: object"
       ]
      }
     ],
     "prompt_number": 16
    },
    {
     "cell_type": "code",
     "collapsed": false,
     "input": [
      "# Or we can treat them like items in a dictionary\n",
      "df['meal_time']"
     ],
     "language": "python",
     "metadata": {},
     "outputs": [
      {
       "metadata": {},
       "output_type": "pyout",
       "prompt_number": 17,
       "text": [
        "date_of_hunger\n",
        "2011-04-22        16:20\n",
        "2011-04-22        10:08\n",
        "2011-04-23        06:29\n",
        "2011-04-23        21:11\n",
        "2011-04-23        07:41\n",
        "Name: meal_time, dtype: object"
       ]
      }
     ],
     "prompt_number": 17
    },
    {
     "cell_type": "code",
     "collapsed": false,
     "input": [
      "# We can also slice by the index \n",
      "# using loc (for names) or iloc (to use integer indices)\n",
      "print 'First with name indexing:\\n', df.loc['2011-04-22', 'meal_time'], '\\n'\n",
      "print 'And now with integer indexing: \\n', df.iloc[0:3, 1]"
     ],
     "language": "python",
     "metadata": {},
     "outputs": [
      {
       "output_type": "stream",
       "stream": "stdout",
       "text": [
        "First with name indexing:\n",
        "date_of_hunger\n",
        "2011-04-22        16:20\n",
        "2011-04-22        10:08\n",
        "Name: meal_time, dtype: object \n",
        "\n",
        "And now with integer indexing: \n",
        "date_of_hunger\n",
        "2011-04-22           Owl\n",
        "2011-04-22           Fox\n",
        "2011-04-23        Muskox\n",
        "dtype: object\n"
       ]
      }
     ],
     "prompt_number": 27
    },
    {
     "cell_type": "markdown",
     "metadata": {},
     "source": [
      "### EXERCISE 2 - Reading and writing using recarrays\n",
      "\n",
      "1. Create a variable called `focusanimal` that is equal to Owl. Write code that reads a csv file of\n",
      "sightings, loops through the records, and counts the mean number of the focus animal seen per record.\n",
      "HINT: You'll want to use two counter variables, `totalrecs` and `totalcount`, to track the number of records\n",
      "mentioning Owl and the total number of owls seen. Print out the answer for the file `sightings_tab_sm.csv`\n",
      "and make sure that it's correct.\n",
      "1. Repeat task #1 above, but using boolean indexing instead of a for loop.\n",
      "\n",
      "__Bonus__\n",
      "\n",
      "1. Starting with the file `sightings_tab_sm.csv`, write code that adds a column called 'taxa' that contains\n",
      "the word 'bird' if the animal is an Owl or a Ptarmigan (the two birds in this data set), and the word\n",
      "'mammal' otherwise. Save this csv file. HINT: You'll probably need to use a for loop, with an if statement\n",
      "inside of it, to view each record and to get and store the appropriate value in a `taxalist`. You can then\n",
      "append this `taxalist` to the table."
     ]
    },
    {
     "cell_type": "code",
     "collapsed": true,
     "input": [
      "focusanimal = 'Owl'\n",
      "tab = ml.csv2rec('sightings_tab_sm.csv')\n",
      "\n",
      "totalrecs = 0\n",
      "totalcount = 0\n",
      "for rec in tab:\n",
      "    if rec['animal'] == focusanimal:\n",
      "        totalrecs += 1\n",
      "        totalcount += rec['count']\n",
      "\n",
      "meancount = totalcount / totalrecs\n",
      "\n",
      "print totalrecs, meancount"
     ],
     "language": "python",
     "metadata": {},
     "outputs": [],
     "prompt_number": 17
    },
    {
     "cell_type": "code",
     "collapsed": true,
     "input": [
      "focusanimal = 'Owl'\n",
      "tab = ml.csv2rec('sightings_tab_sm.csv')\n",
      "\n",
      "isfocus = (tab['animal'] == focusanimal)\n",
      "totalrecs = np.sum(isfocus)\n",
      "meancount = np.mean(tab['count'][isfocus])\n",
      "\n",
      "print totalrecs, meancount"
     ],
     "language": "python",
     "metadata": {},
     "outputs": [],
     "prompt_number": 17
    },
    {
     "cell_type": "code",
     "collapsed": true,
     "input": [
      "tabnew = ml.csv2rec('sightings_tab_sm.csv')\n",
      "\n",
      "taxalist = []\n",
      "for rec in tab:\n",
      "    if (rec['animal'] == 'Owl') or (rec['animal'] == 'Ptarmigan'):\n",
      "        taxalist.append('bird')\n",
      "    else:\n",
      "        taxalist.append('mammal')\n",
      "\n",
      "tabnew = ml.rec_append_fields(tabnew, 'taxa', taxalist)\n",
      "\n",
      "ml.rec2csv(tabnew, 'sightings_tab_new.csv')\n",
      "\n",
      "!cat sightings_tab_new.csv"
     ],
     "language": "python",
     "metadata": {},
     "outputs": [],
     "prompt_number": 17
    }
   ],
   "metadata": {}
  }
 ]
}