{
 "metadata": {
  "name": "hdf_restore"
 },
 "nbformat": 3,
 "nbformat_minor": 0,
 "worksheets": [
  {
   "cells": [
    {
     "cell_type": "code",
     "collapsed": false,
     "input": "import pandas as pd\npd.__version__",
     "language": "python",
     "metadata": {},
     "outputs": [
      {
       "output_type": "pyout",
       "prompt_number": 9,
       "text": "'0.13.0'"
      }
     ],
     "prompt_number": 9
    },
    {
     "cell_type": "code",
     "collapsed": false,
     "input": "path = \"/Users/grigsbye/swcarpentry-2014-01-31-ucsb/lessons/sg_python/data_files/store.h5\"",
     "language": "python",
     "metadata": {},
     "outputs": [],
     "prompt_number": 10
    },
    {
     "cell_type": "code",
     "collapsed": false,
     "input": "store = pd.HDFStore(path)",
     "language": "python",
     "metadata": {},
     "outputs": [],
     "prompt_number": 11
    },
    {
     "cell_type": "code",
     "collapsed": false,
     "input": "store",
     "language": "python",
     "metadata": {},
     "outputs": [
      {
       "output_type": "pyout",
       "prompt_number": 12,
       "text": "<class 'pandas.io.pytables.HDFStore'>\nFile path: /Users/grigsbye/swcarpentry-2014-01-31-ucsb/lessons/sg_python/data_files/store.h5\n/spectra            frame        (shape->[224,4])"
      }
     ],
     "prompt_number": 12
    },
    {
     "cell_type": "code",
     "collapsed": false,
     "input": "# store['spectra'] = spectra     opposite...\nspectralDF = store['spectra']",
     "language": "python",
     "metadata": {},
     "outputs": [],
     "prompt_number": 13
    },
    {
     "cell_type": "code",
     "collapsed": false,
     "input": "spectralDF",
     "language": "python",
     "metadata": {},
     "outputs": [
      {
       "html": "<div style=\"max-height:1000px;max-width:1500px;overflow:auto;\">\n<table border=\"1\" class=\"dataframe\">\n  <thead>\n    <tr style=\"text-align: right;\">\n      <th></th>\n      <th>march</th>\n      <th>may</th>\n      <th>june</th>\n      <th>august</th>\n    </tr>\n    <tr>\n      <th>wavelength</th>\n      <th></th>\n      <th></th>\n      <th></th>\n      <th></th>\n    </tr>\n  </thead>\n  <tbody>\n    <tr>\n      <th>365.929810</th>\n      <td> -50</td>\n      <td> 2000</td>\n      <td> 2000</td>\n      <td> 2000</td>\n    </tr>\n    <tr>\n      <th>375.593994</th>\n      <td> -50</td>\n      <td>  -50</td>\n      <td>  -40</td>\n      <td>  -50</td>\n    </tr>\n    <tr>\n      <th>385.262512</th>\n      <td> -50</td>\n      <td>  -50</td>\n      <td>  -37</td>\n      <td>  -50</td>\n    </tr>\n    <tr>\n      <th>394.935486</th>\n      <td> -31</td>\n      <td>  -29</td>\n      <td>   -7</td>\n      <td>  -33</td>\n    </tr>\n    <tr>\n      <th>404.612915</th>\n      <td>  34</td>\n      <td>   29</td>\n      <td>   61</td>\n      <td>   26</td>\n    </tr>\n    <tr>\n      <th>414.294586</th>\n      <td>  41</td>\n      <td>   38</td>\n      <td>   68</td>\n      <td>   34</td>\n    </tr>\n    <tr>\n      <th>423.980804</th>\n      <td>  45</td>\n      <td>   45</td>\n      <td>   73</td>\n      <td>   38</td>\n    </tr>\n    <tr>\n      <th>433.671295</th>\n      <td>  48</td>\n      <td>   49</td>\n      <td>   75</td>\n      <td>   41</td>\n    </tr>\n    <tr>\n      <th>443.366211</th>\n      <td>  48</td>\n      <td>   52</td>\n      <td>   77</td>\n      <td>   42</td>\n    </tr>\n    <tr>\n      <th>453.065491</th>\n      <td>  48</td>\n      <td>   55</td>\n      <td>   78</td>\n      <td>   44</td>\n    </tr>\n    <tr>\n      <th>462.769196</th>\n      <td>  50</td>\n      <td>   57</td>\n      <td>   82</td>\n      <td>   48</td>\n    </tr>\n    <tr>\n      <th>472.477295</th>\n      <td>  47</td>\n      <td>   58</td>\n      <td>   81</td>\n      <td>   48</td>\n    </tr>\n    <tr>\n      <th>482.189789</th>\n      <td>  48</td>\n      <td>   60</td>\n      <td>   83</td>\n      <td>   50</td>\n    </tr>\n    <tr>\n      <th>491.906586</th>\n      <td>  48</td>\n      <td>   61</td>\n      <td>   85</td>\n      <td>   51</td>\n    </tr>\n    <tr>\n      <th>501.627899</th>\n      <td>  49</td>\n      <td>   63</td>\n      <td>   86</td>\n      <td>   52</td>\n    </tr>\n    <tr>\n      <th>511.353485</th>\n      <td>  52</td>\n      <td>   67</td>\n      <td>   88</td>\n      <td>   53</td>\n    </tr>\n    <tr>\n      <th>521.083618</th>\n      <td>  55</td>\n      <td>   70</td>\n      <td>   90</td>\n      <td>   55</td>\n    </tr>\n    <tr>\n      <th>530.817993</th>\n      <td>  59</td>\n      <td>   74</td>\n      <td>   92</td>\n      <td>   57</td>\n    </tr>\n    <tr>\n      <th>540.556824</th>\n      <td>  62</td>\n      <td>   77</td>\n      <td>   94</td>\n      <td>   57</td>\n    </tr>\n    <tr>\n      <th>550.299988</th>\n      <td>  64</td>\n      <td>   80</td>\n      <td>   96</td>\n      <td>   60</td>\n    </tr>\n    <tr>\n      <th>560.047729</th>\n      <td>  65</td>\n      <td>   81</td>\n      <td>   98</td>\n      <td>   61</td>\n    </tr>\n    <tr>\n      <th>569.799622</th>\n      <td>  64</td>\n      <td>   83</td>\n      <td>  100</td>\n      <td>   63</td>\n    </tr>\n    <tr>\n      <th>579.556030</th>\n      <td>  63</td>\n      <td>   85</td>\n      <td>  102</td>\n      <td>   65</td>\n    </tr>\n    <tr>\n      <th>589.316772</th>\n      <td>  60</td>\n      <td>   85</td>\n      <td>  103</td>\n      <td>   67</td>\n    </tr>\n    <tr>\n      <th>599.081909</th>\n      <td>  60</td>\n      <td>   87</td>\n      <td>  105</td>\n      <td>   70</td>\n    </tr>\n    <tr>\n      <th>608.851501</th>\n      <td>  61</td>\n      <td>   91</td>\n      <td>  109</td>\n      <td>   73</td>\n    </tr>\n    <tr>\n      <th>618.625427</th>\n      <td>  60</td>\n      <td>   94</td>\n      <td>  111</td>\n      <td>   75</td>\n    </tr>\n    <tr>\n      <th>628.403687</th>\n      <td>  61</td>\n      <td>   98</td>\n      <td>  114</td>\n      <td>   78</td>\n    </tr>\n    <tr>\n      <th>638.186523</th>\n      <td>  60</td>\n      <td>  101</td>\n      <td>  116</td>\n      <td>   81</td>\n    </tr>\n    <tr>\n      <th>647.973572</th>\n      <td>  59</td>\n      <td>  102</td>\n      <td>  119</td>\n      <td>   83</td>\n    </tr>\n    <tr>\n      <th>657.765076</th>\n      <td>  58</td>\n      <td>  104</td>\n      <td>  121</td>\n      <td>   86</td>\n    </tr>\n    <tr>\n      <th>667.560974</th>\n      <td>  57</td>\n      <td>  104</td>\n      <td>  125</td>\n      <td>   90</td>\n    </tr>\n    <tr>\n      <th>655.792297</th>\n      <td>  58</td>\n      <td>  103</td>\n      <td>  122</td>\n      <td>   87</td>\n    </tr>\n    <tr>\n      <th>665.599426</th>\n      <td>  57</td>\n      <td>  104</td>\n      <td>  125</td>\n      <td>   90</td>\n    </tr>\n    <tr>\n      <th>675.401184</th>\n      <td>  56</td>\n      <td>  105</td>\n      <td>  128</td>\n      <td>   93</td>\n    </tr>\n    <tr>\n      <th>685.197876</th>\n      <td>  61</td>\n      <td>  113</td>\n      <td>  131</td>\n      <td>   97</td>\n    </tr>\n    <tr>\n      <th>694.989380</th>\n      <td>  75</td>\n      <td>  128</td>\n      <td>  135</td>\n      <td>  100</td>\n    </tr>\n    <tr>\n      <th>704.775574</th>\n      <td>  96</td>\n      <td>  145</td>\n      <td>  140</td>\n      <td>  103</td>\n    </tr>\n    <tr>\n      <th>714.556580</th>\n      <td> 116</td>\n      <td>  158</td>\n      <td>  144</td>\n      <td>  106</td>\n    </tr>\n    <tr>\n      <th>724.332520</th>\n      <td> 134</td>\n      <td>  169</td>\n      <td>  148</td>\n      <td>  109</td>\n    </tr>\n    <tr>\n      <th>734.103088</th>\n      <td> 149</td>\n      <td>  178</td>\n      <td>  153</td>\n      <td>  114</td>\n    </tr>\n    <tr>\n      <th>743.868530</th>\n      <td> 160</td>\n      <td>  185</td>\n      <td>  156</td>\n      <td>  117</td>\n    </tr>\n    <tr>\n      <th>753.628723</th>\n      <td> 167</td>\n      <td>  192</td>\n      <td>  158</td>\n      <td>  120</td>\n    </tr>\n    <tr>\n      <th>763.383728</th>\n      <td> 169</td>\n      <td>  197</td>\n      <td>  161</td>\n      <td>  121</td>\n    </tr>\n    <tr>\n      <th>773.133484</th>\n      <td> 174</td>\n      <td>  202</td>\n      <td>  166</td>\n      <td>  126</td>\n    </tr>\n    <tr>\n      <th>782.878113</th>\n      <td> 177</td>\n      <td>  207</td>\n      <td>  169</td>\n      <td>  130</td>\n    </tr>\n    <tr>\n      <th>792.617371</th>\n      <td> 180</td>\n      <td>  213</td>\n      <td>  173</td>\n      <td>  133</td>\n    </tr>\n    <tr>\n      <th>802.351624</th>\n      <td> 184</td>\n      <td>  217</td>\n      <td>  176</td>\n      <td>  136</td>\n    </tr>\n    <tr>\n      <th>812.080505</th>\n      <td> 186</td>\n      <td>  221</td>\n      <td>  179</td>\n      <td>  140</td>\n    </tr>\n    <tr>\n      <th>821.804321</th>\n      <td> 191</td>\n      <td>  227</td>\n      <td>  184</td>\n      <td>  143</td>\n    </tr>\n    <tr>\n      <th>831.522827</th>\n      <td> 193</td>\n      <td>  231</td>\n      <td>  187</td>\n      <td>  147</td>\n    </tr>\n    <tr>\n      <th>841.236084</th>\n      <td> 195</td>\n      <td>  234</td>\n      <td>  189</td>\n      <td>  151</td>\n    </tr>\n    <tr>\n      <th>850.944214</th>\n      <td> 197</td>\n      <td>  238</td>\n      <td>  192</td>\n      <td>  154</td>\n    </tr>\n    <tr>\n      <th>860.647095</th>\n      <td> 199</td>\n      <td>  241</td>\n      <td>  195</td>\n      <td>  157</td>\n    </tr>\n    <tr>\n      <th>870.344788</th>\n      <td> 201</td>\n      <td>  247</td>\n      <td>  198</td>\n      <td>  159</td>\n    </tr>\n    <tr>\n      <th>880.037170</th>\n      <td> 204</td>\n      <td>  249</td>\n      <td>  201</td>\n      <td>  162</td>\n    </tr>\n    <tr>\n      <th>889.724487</th>\n      <td> 206</td>\n      <td>  254</td>\n      <td>  204</td>\n      <td>  165</td>\n    </tr>\n    <tr>\n      <th>899.406616</th>\n      <td> 208</td>\n      <td>  257</td>\n      <td>  207</td>\n      <td>  167</td>\n    </tr>\n    <tr>\n      <th>909.083374</th>\n      <td> 211</td>\n      <td>  260</td>\n      <td>  210</td>\n      <td>  171</td>\n    </tr>\n    <tr>\n      <th>918.755127</th>\n      <td> 215</td>\n      <td>  264</td>\n      <td>  215</td>\n      <td>  174</td>\n    </tr>\n    <tr>\n      <th></th>\n      <td>...</td>\n      <td>...</td>\n      <td>...</td>\n      <td>...</td>\n    </tr>\n  </tbody>\n</table>\n<p>224 rows \u00d7 4 columns</p>\n</div>",
       "output_type": "pyout",
       "prompt_number": 14,
       "text": "            march   may  june  august\nwavelength                           \n365.929810    -50  2000  2000    2000\n375.593994    -50   -50   -40     -50\n385.262512    -50   -50   -37     -50\n394.935486    -31   -29    -7     -33\n404.612915     34    29    61      26\n414.294586     41    38    68      34\n423.980804     45    45    73      38\n433.671295     48    49    75      41\n443.366211     48    52    77      42\n453.065491     48    55    78      44\n462.769196     50    57    82      48\n472.477295     47    58    81      48\n482.189789     48    60    83      50\n491.906586     48    61    85      51\n501.627899     49    63    86      52\n511.353485     52    67    88      53\n521.083618     55    70    90      55\n530.817993     59    74    92      57\n540.556824     62    77    94      57\n550.299988     64    80    96      60\n560.047729     65    81    98      61\n569.799622     64    83   100      63\n579.556030     63    85   102      65\n589.316772     60    85   103      67\n599.081909     60    87   105      70\n608.851501     61    91   109      73\n618.625427     60    94   111      75\n628.403687     61    98   114      78\n638.186523     60   101   116      81\n647.973572     59   102   119      83\n657.765076     58   104   121      86\n667.560974     57   104   125      90\n655.792297     58   103   122      87\n665.599426     57   104   125      90\n675.401184     56   105   128      93\n685.197876     61   113   131      97\n694.989380     75   128   135     100\n704.775574     96   145   140     103\n714.556580    116   158   144     106\n724.332520    134   169   148     109\n734.103088    149   178   153     114\n743.868530    160   185   156     117\n753.628723    167   192   158     120\n763.383728    169   197   161     121\n773.133484    174   202   166     126\n782.878113    177   207   169     130\n792.617371    180   213   173     133\n802.351624    184   217   176     136\n812.080505    186   221   179     140\n821.804321    191   227   184     143\n831.522827    193   231   187     147\n841.236084    195   234   189     151\n850.944214    197   238   192     154\n860.647095    199   241   195     157\n870.344788    201   247   198     159\n880.037170    204   249   201     162\n889.724487    206   254   204     165\n899.406616    208   257   207     167\n909.083374    211   260   210     171\n918.755127    215   264   215     174\n              ...   ...   ...     ...\n\n[224 rows x 4 columns]"
      }
     ],
     "prompt_number": 14
    },
    {
     "cell_type": "code",
     "collapsed": false,
     "input": "spectralDF.march, spectralDF['may']",
     "language": "python",
     "metadata": {},
     "outputs": [
      {
       "output_type": "pyout",
       "prompt_number": 16,
       "text": "(wavelength\n365.929810   -50\n375.593994   -50\n385.262512   -50\n394.935486   -31\n404.612915    34\n414.294586    41\n423.980804    45\n433.671295    48\n443.366211    48\n453.065491    48\n462.769196    50\n472.477295    47\n482.189789    48\n491.906586    48\n501.627899    49\n...\n2357.166992    101\n2367.114990    101\n2377.061035    100\n2387.004883    100\n2396.947021     96\n2406.885986     95\n2416.822998     92\n2426.758057     89\n2436.689941     92\n2446.620117     84\n2456.548096     78\n2466.472900     74\n2476.395996     74\n2486.316895     69\n2496.236084     77\nName: march, Length: 224, dtype: float64,\n wavelength\n365.929810    2000\n375.593994     -50\n385.262512     -50\n394.935486     -29\n404.612915      29\n414.294586      38\n423.980804      45\n433.671295      49\n443.366211      52\n453.065491      55\n462.769196      57\n472.477295      58\n482.189789      60\n491.906586      61\n501.627899      63\n...\n2357.166992    135\n2367.114990    134\n2377.061035    135\n2387.004883    133\n2396.947021    131\n2406.885986    132\n2416.822998    126\n2426.758057    122\n2436.689941    119\n2446.620117    110\n2456.548096    102\n2466.472900    103\n2476.395996     92\n2486.316895     67\n2496.236084    102\nName: may, Length: 224, dtype: float64)"
      }
     ],
     "prompt_number": 16
    },
    {
     "cell_type": "code",
     "collapsed": false,
     "input": "",
     "language": "python",
     "metadata": {},
     "outputs": []
    }
   ],
   "metadata": {}
  }
 ]
}