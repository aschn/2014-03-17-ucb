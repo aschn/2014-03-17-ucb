{
 "metadata": {
  "name": "brief_arcgis_tut"
 },
 "nbformat": 3,
 "nbformat_minor": 0,
 "worksheets": [
  {
   "cells": [
    {
     "cell_type": "markdown",
     "metadata": {},
     "source": "Note: this information is from arcgis 9.3, and is possibly (i.e., probably) outdated. I also do not have a copy of arc to test any of this on, and arc is required to run the python code-- below is mearly a very broad introduction to the interface."
    },
    {
     "cell_type": "code",
     "collapsed": false,
     "input": "import sys\nimport arcgisscripting\n",
     "language": "python",
     "metadata": {},
     "outputs": []
    },
    {
     "cell_type": "code",
     "collapsed": false,
     "input": "# Basic setup: defining workspace and geoprocessor\n\n# create the geoprocessor object\n# (i.e., check out the arc licence)\ngp = arcgisscripting.create()\n\n# create workspace\n# windows style paths, since arc only works on windows\ngp.workspace = \"D:\\\\grigsby\\arc\"\n",
     "language": "python",
     "metadata": {},
     "outputs": []
    },
    {
     "cell_type": "code",
     "collapsed": false,
     "input": "# Simple example: using a tool in arc, in this case ASCIIToRaster from the conversion tool box:\n\n# Set local variables\n# Our input file\nInAsciiFile = path + \"\\\\output\\\\outputKgb.txt\"\n# Our output grid name\nOutRaster = path + \"\\\\output\\\\outGridKgb\"\n\n# Process: ASCIIToRaster_conversion\ngp.ASCIIToRaster_conversion(InAsciiFile, OutRaster)\n\n",
     "language": "python",
     "metadata": {},
     "outputs": []
    },
    {
     "cell_type": "code",
     "collapsed": false,
     "input": "# A more complex example: Double checking the arcgis geometry values",
     "language": "python",
     "metadata": {},
     "outputs": []
    },
    {
     "cell_type": "code",
     "collapsed": false,
     "input": "# First, some functions: one pure python, the other an arc convenience function\n\n# Define Simpson's rule to check geometry lengths ourselves:\ndef charaterizePolygon(pointList):\n    \"\"\"Returns 2D area, 2D and 3D parameter.\"\"\"\n    ##Declaration of variables:\n    \n    lengthList = []\n    simpsonsXlist = []\n    simpsonsYlist = []\n    sumSimpsonList = []\n    zLengthList = []\n    length3Dlist = []\n\n    ## calc the line segments\n    \n    for i in range((len(pointList) - 1)):\n        xLength = pointList[i+1].x - pointList[i].x\n        yLength = pointList[i+1].y - pointList[i].y\n        zLength = pointList[i+1].z - pointList[i].z        \n        simpsonsY = pointList[i].y + pointList[i+1].y\n        simpsonsXlist.append(xLength)\n        simpsonsYlist.append(simpsonsY)\n        lengthList.append(((xLength**2) + (yLength**2))**0.5)\n        sumSimpsonList.append(simpsonsXlist[i] * simpsonsYlist[i])\n        zLengthList.append(zLength)\n        length3Dlist.append((((lengthList[i])**2) + ((zLengthList[i])**2))**0.5)    \n\n    ## calc object area using simpsons rule\n    simpsonArea = sum(sumSimpsonList)*0.5\n    perimeter2d = sum(lengthList)\n    perimeter3d = sum(length3Dlist)\n\n    ## return values as promised\n    return simpsonArea, perimeter2d, perimeter3d\n\n# Function to grab arbitrary rows\n# Default to first row (first feature) unless told otherwise\ndef getRow(shapefileToQuery, rownumber = 1):\n    \"\"\"This makes searchCursor not suck. Enter the row number you want to grab info from)\"\"\"\n    # SearchCursor is what goes though the shapefile database; this function gives random access instead of the default serial\n    global queryRow\n    cursorCall = gp.SearchCursor(shapefileToQuery)\n    # Reset in case the function was already called, and the cursor is in the middle of the shapefile database\n    cursorCall.reset()\n    for i in range(rownumber):\n        queryRow = cursorCall.next()\n",
     "language": "python",
     "metadata": {},
     "outputs": []
    },
    {
     "cell_type": "code",
     "collapsed": false,
     "input": "# Run the actual analysis:\n\ntry:\n    print \"**********************\"\n    print \"Creating and defining variables.\"\n    circRatioList = []\n    circRatioList3D = []\n    # Creating pointArray after initializing to first row\n    getRow(\"\\\\The3DPolygons.shp\")\n    # This is just to create the varible name; the value gets overwritten in the loop\n    pointArray = queryRow.shape.GetPart(0)\n\n    # Shapefile has 4 features, we'll loop thru them\n    for j in (1 , 2 , 3 , 4):\n        getRow(\"\\\\The3DPolygons.shp\", j)\n        # Get first 'part' of feaure 'j' (unless multi-part feature like Hawaii, this is the feature)\n        pointArray = queryRow.shape.GetPart(0)\n        # pointArray is a feature part 'object', with attributes-- like count\n        pointCount = pointArray.count\n        print pointCount, \"points\"\n        pointList = []\n        # Value in arc database of total area:\n        print \"The value our simpsons rule SHOULD calculate is: \", queryRow.shape.area\n\n        print \"yank points of polygon\"\n        # 'GetObject' for a polygon gets a primative (a points) that makes up the object; (need to know what you're querying...)\n        for i in range(pointCount):\n            protoPoint = pointArray.GetObject(i)\n            pointList.append(protoPoint)\n\n        print \"Extract info from polygon\"\n        \n        simpsonArea, perimeter2d, perimeter3d = charaterizePolygon(pointList)\n\n        print \"calc circularity ratio\"\n\n        \n        circRatio = (math.pi * 4 * simpsonArea) / (perimeter2d**2)\n        circRatio3D = (math.pi * 4 * simpsonArea) / (perimeter3d**2)\n        \n        circRatioList.append(circRatio)        \n        circRatioList3D.append(circRatio3D)\n\n        print \"for polygon\", j, \",\", circRatio3D, \"is the 3D circle ratio\"\n        print \"for polygon\", j, \",\", circRatio, \"is the 2D circle ratio\"\n        print \"for polygon\", j, \",\", perimeter3d, \"is the 3D perimeter\"\n        print \"for polygon\", j, \",\", perimeter2d, \"is the 2D perimeter\"\n        print \"for polygon\", j, \",\", simpsonArea, \"is the area (2D)\"\n\n    # Adding fields to the shapefile....\n    print \"adding ratios to shapefile\"\n    gp.addfield(\"\\\\The3DPolygons.shp\", \"Ratio2d\", \"FLOAT\")\n    gp.addfield(\"\\\\The3DPolygons.shp\", \"Ratio3d\", \"FLOAT\")\n\nexcept:\n    # If an error occurred while running the tool print the error messages.\n    print gp.GetMessages(0)\n    ",
     "language": "python",
     "metadata": {},
     "outputs": []
    }
   ],
   "metadata": {}
  }
 ]
}